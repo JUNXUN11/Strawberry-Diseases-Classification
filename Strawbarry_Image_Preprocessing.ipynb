{
  "nbformat": 4,
  "nbformat_minor": 0,
  "metadata": {
    "colab": {
      "provenance": []
    },
    "kernelspec": {
      "name": "python3",
      "display_name": "Python 3"
    },
    "language_info": {
      "name": "python"
    }
  },
  "cells": [
    {
      "cell_type": "code",
      "execution_count": null,
      "metadata": {
        "colab": {
          "base_uri": "https://localhost:8080/"
        },
        "id": "aDHTChdzSHd1",
        "outputId": "0d9786d2-0103-425f-9e0a-14e2426992a0"
      },
      "outputs": [
        {
          "output_type": "stream",
          "name": "stdout",
          "text": [
            "Mounted at /content/drive\n",
            "/content/drive/MyDrive/Strawberry Diseases Detection/raw_data/train\n",
            "/content/drive/MyDrive/Strawberry Diseases Detection/raw_data/val\n",
            "/content/drive/MyDrive/Strawberry Diseases Detection/raw_data/test\n"
          ]
        }
      ],
      "source": [
        "from google.colab import drive\n",
        "import os\n",
        "import json\n",
        "import numpy as np\n",
        "import tensorflow as tf\n",
        "import matplotlib.pyplot as plt\n",
        "from PIL import Image\n",
        "import cv2\n",
        "\n",
        "# Mount Google Drive\n",
        "drive.mount('/content/drive', force_remount=True)\n",
        "\n",
        "# Define base path to the dataset\n",
        "base_path = '/content/drive/MyDrive/Strawberry Diseases Detection/raw_data'\n",
        "train_path = os.path.join(base_path, 'train')\n",
        "val_path = os.path.join(base_path, 'val')\n",
        "test_path = os.path.join(base_path, 'test')\n",
        "\n",
        "print(train_path)\n",
        "print(val_path)\n",
        "print(test_path)"
      ]
    },
    {
      "cell_type": "code",
      "source": [
        "# Disease labels mapping (7 types)\n",
        "disease_labels = {\n",
        "    \"Angular Leafspot\": 0,\n",
        "    \"Anthracnose Fruit Rot\": 1,\n",
        "    \"Blossom Blight\": 2,\n",
        "    \"Gray Mold\": 3,\n",
        "    \"Leaf Spot\": 4,\n",
        "    \"Powdery Mildew Fruit\": 5,\n",
        "    \"Powdery Mildew Leaf\": 6\n",
        "}"
      ],
      "metadata": {
        "id": "ILUeLBs3iVwZ"
      },
      "execution_count": null,
      "outputs": []
    },
    {
      "cell_type": "code",
      "source": [
        "# Step 1: Load paired data\n",
        "def load_dataset(dataset_path,limit=None):\n",
        "    \"\"\"\n",
        "    Load and pair images (.jpg) with JSON files in the given path.\n",
        "    \"\"\"\n",
        "    files = os.listdir(dataset_path)\n",
        "    image_files = [f for f in files if f.endswith('.jpg')]\n",
        "    json_files = [f for f in files if f.endswith('.json')]\n",
        "\n",
        "    paired_data = []\n",
        "    for img_file in image_files:\n",
        "        json_file = img_file.replace('.jpg', '.json')\n",
        "        if json_file in json_files:\n",
        "            paired_data.append((os.path.join(dataset_path, img_file),\n",
        "                                os.path.join(dataset_path, json_file)))\n",
        "        if limit and len(paired_data) >= limit:\n",
        "            break\n",
        "\n",
        "    print(f\"Found {len(paired_data)} paired image and JSON files in {dataset_path}\")\n",
        "    return paired_data\n",
        "\n",
        "# Load datasets\n",
        "train_data = load_dataset(train_path)\n",
        "val_data = load_dataset(val_path)\n",
        "test_data = load_dataset(test_path)"
      ],
      "metadata": {
        "colab": {
          "base_uri": "https://localhost:8080/"
        },
        "id": "6qVHIQ46iWgC",
        "outputId": "7b470410-7c15-4ade-aa8a-3889a8931c09"
      },
      "execution_count": null,
      "outputs": [
        {
          "output_type": "stream",
          "name": "stdout",
          "text": [
            "Found 1450 paired image and JSON files in /content/drive/MyDrive/Strawberry Diseases Detection/raw_data/train\n",
            "Found 307 paired image and JSON files in /content/drive/MyDrive/Strawberry Diseases Detection/raw_data/val\n",
            "Found 743 paired image and JSON files in /content/drive/MyDrive/Strawberry Diseases Detection/raw_data/test\n"
          ]
        }
      ]
    },
    {
      "cell_type": "code",
      "source": [
        "# Step 2: Preprocessing Functions\n",
        "def normalize_image(image):\n",
        "    \"\"\"Normalize image pixels to the range [0, 1].\"\"\"\n",
        "    return np.array(image, dtype=np.float32) / 255.0"
      ],
      "metadata": {
        "id": "rQVSNb63lERe"
      },
      "execution_count": null,
      "outputs": []
    },
    {
      "cell_type": "code",
      "source": [
        "def augment_image(image):\n",
        "    \"\"\"Apply data augmentation.\"\"\"\n",
        "    image = tf.image.random_flip_left_right(image)  # Random horizontal flip\n",
        "    image = tf.image.random_flip_up_down(image)    # Random vertical flip\n",
        "    image = tf.image.random_brightness(image, max_delta=0.2)  # Adjust brightness\n",
        "    image = tf.image.random_contrast(image, lower=0.8, upper=1.2)  # Adjust contrast\n",
        "    return image"
      ],
      "metadata": {
        "id": "PlNrN96WdThh"
      },
      "execution_count": null,
      "outputs": []
    },
    {
      "cell_type": "code",
      "source": [
        "def preprocess_data_for_training(paired_data, target_size=(224, 224), augment=True):\n",
        "    \"\"\"\n",
        "    Preprocess paired image and JSON data for model training.\n",
        "    Maps each image to its associated disease(s), resizes, normalizes, and augments them.\n",
        "    \"\"\"\n",
        "    images = []\n",
        "    labels = []\n",
        "\n",
        "    for image_path, json_path in paired_data:\n",
        "        # Load image using OpenCV and convert to RGB\n",
        "        image = cv2.imread(image_path)  # Load in BGR format\n",
        "        image = cv2.cvtColor(image, cv2.COLOR_BGR2RGB)  # Convert to RGB\n",
        "        image = cv2.resize(image, target_size)  # Resize to target size (e.g., 224x224 for ResNet)\n",
        "\n",
        "        # Normalize image to [0, 1]\n",
        "        normalized_image = normalize_image(image)\n",
        "\n",
        "        # Ensure augmentation is applied to every image\n",
        "        augmented_image = augment_image(normalized_image)\n",
        "\n",
        "        # Load and process JSON annotation\n",
        "        with open(json_path, 'r') as f:\n",
        "            annotation = json.load(f)\n",
        "\n",
        "       # Extract unique disease labels from the JSON\n",
        "        disease_types = list(set(\n",
        "            shape.get('label').strip() for shape in annotation.get('shapes', [])\n",
        "            if shape.get('label').strip() in disease_labels  # Match exactly as declared in `disease_labels`\n",
        "        ))\n",
        "\n",
        "        all_labels = [shape.get('label').strip() for shape in annotation.get('shapes', [])]\n",
        "        disease_indices = [disease_labels[disease] for disease in disease_types]\n",
        "\n",
        "        # Append preprocessed image and corresponding labels\n",
        "        images.append(augmented_image)\n",
        "        labels.append(disease_indices)\n",
        "\n",
        "    # Convert to NumPy arrays\n",
        "    images = np.array(images, dtype=np.float32)\n",
        "\n",
        "    # Calculate mean and standard deviation\n",
        "    mean = np.mean(images, axis=(0, 1, 2))  # Per-channel mean\n",
        "    std = np.std(images, axis=(0, 1, 2))   # Per-channel std\n",
        "\n",
        "    # Standardize images using mean and std\n",
        "    images = (images - mean) / std\n",
        "\n",
        "    print(f\"Dataset mean: {mean}, std: {std}\")\n",
        "\n",
        "    # Prepare labels for multi-label classification (multi-hot encoding)\n",
        "    num_classes = len(disease_labels)\n",
        "    multi_hot_labels = np.zeros((len(labels), num_classes), dtype=np.float32)\n",
        "    for i, disease_indices in enumerate(labels):\n",
        "        for index in disease_indices:\n",
        "            multi_hot_labels[i, index] = 1.0\n",
        "\n",
        "    return images, multi_hot_labels, mean, std\n",
        "\n",
        "# Preprocess datasets with forced augmentation for training\n",
        "print(\"Preprocessing datasets...\")\n",
        "train_images, train_labels, train_mean, train_std = preprocess_data_for_training(train_data, augment=True)\n",
        "val_images, val_labels, val_mean, val_std = preprocess_data_for_training(val_data, augment=False)\n",
        "test_images, test_labels, test_mean, test_std = preprocess_data_for_training(test_data, augment=False)"
      ],
      "metadata": {
        "colab": {
          "base_uri": "https://localhost:8080/"
        },
        "id": "6Aw6bTe_A5oa",
        "outputId": "c6408c9a-5671-43d5-9ea1-3cb9a20a4381"
      },
      "execution_count": null,
      "outputs": [
        {
          "output_type": "stream",
          "name": "stdout",
          "text": [
            "Preprocessing datasets...\n",
            "Dataset mean: [0.24333906 0.2417085  0.2001999 ], std: [0.26875508 0.29034236 0.22288966]\n",
            "Dataset mean: [0.43387204 0.49450576 0.27588496], std: [0.23676863 0.2198072  0.2396303 ]\n",
            "Dataset mean: [0.38002133 0.45103166 0.28196567], std: [0.237067   0.2302046  0.22575405]\n"
          ]
        }
      ]
    },
    {
      "cell_type": "code",
      "source": [
        "def investigate_preprocessing(images, labels, mean, std, num_samples=5):\n",
        "    \"\"\"\n",
        "    Investigate preprocessing by visualizing random samples and checking image properties.\n",
        "    \"\"\"\n",
        "    for i in range(num_samples):\n",
        "        idx = np.random.randint(0, len(images))  # Pick a random index\n",
        "        image = images[idx]\n",
        "        label = labels[idx]\n",
        "\n",
        "        # De-normalize the image for visualization\n",
        "        de_normalized_image = (image * std + mean).clip(0, 1)\n",
        "\n",
        "        # Visualize the image\n",
        "        plt.figure(figsize=(5, 5))\n",
        "        plt.imshow(de_normalized_image)\n",
        "        plt.title(f\"Label(s): {np.where(label == 1)[0]}\")\n",
        "        plt.axis('off')\n",
        "        plt.show()\n",
        "\n",
        "        # Print image properties\n",
        "        print(f\"Image {i+1}:\")\n",
        "        print(f\"  Shape: {image.shape}\")\n",
        "        print(f\"  Min pixel value: {image.min():.3f}\")\n",
        "        print(f\"  Max pixel value: {image.max():.3f}\")\n",
        "        print(f\"  Label indices: {np.where(label == 1)[0]}\\n\")\n",
        "\n",
        "# Investigate training images\n",
        "investigate_preprocessing(train_images, train_labels, train_mean, train_std, num_samples=10)\n"
      ],
      "metadata": {
        "id": "ahibHGR1kL7P"
      },
      "execution_count": null,
      "outputs": []
    },
    {
      "cell_type": "code",
      "source": [
        "# Save processed data to Google Drive\n",
        "def save_processed_data(images, labels, directory, prefix):\n",
        "    \"\"\"\n",
        "    Save images and labels as .npy files in the specified directory.\n",
        "    \"\"\"\n",
        "    os.makedirs(directory, exist_ok=True)\n",
        "    np.save(os.path.join(directory, f\"{prefix}_images.npy\"), images)\n",
        "    np.save(os.path.join(directory, f\"{prefix}_labels.npy\"), labels)\n",
        "    print(f\"Saved {prefix} data to {directory}\")\n",
        "\n",
        "# Define directory to save data\n",
        "save_directory = '/content/drive/MyDrive/Strawberry_Disease_Processed'\n",
        "\n",
        "# Save train, val, and test datasets\n",
        "save_processed_data(train_images, train_labels, save_directory, \"train\")\n",
        "save_processed_data(val_images, val_labels, save_directory, \"val\")\n",
        "save_processed_data(test_images, test_labels, save_directory, \"test\")\n"
      ],
      "metadata": {
        "colab": {
          "base_uri": "https://localhost:8080/"
        },
        "id": "z2PeIj0Gj6ry",
        "outputId": "d3f57a83-26b7-4db2-fb01-e87758b4ee2b"
      },
      "execution_count": null,
      "outputs": [
        {
          "output_type": "stream",
          "name": "stdout",
          "text": [
            "Saved train data to /content/drive/MyDrive/Strawberry_Disease_Processed\n",
            "Saved val data to /content/drive/MyDrive/Strawberry_Disease_Processed\n",
            "Saved test data to /content/drive/MyDrive/Strawberry_Disease_Processed\n"
          ]
        }
      ]
    }
  ]
}